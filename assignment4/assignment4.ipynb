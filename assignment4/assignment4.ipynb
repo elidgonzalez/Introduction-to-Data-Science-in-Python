{
 "cells": [
  {
   "cell_type": "markdown",
   "metadata": {
    "deletable": false,
    "editable": false,
    "nbgrader": {
     "checksum": "48770f8b5f5d3062d3badd51fcafc401",
     "grade": false,
     "grade_id": "cell-a6c4f74309fc2379",
     "locked": true,
     "schema_version": 1,
     "solution": false
    }
   },
   "source": [
    "# Assignment 4\n",
    "## Description\n",
    "In this assignment you must read in a file of metropolitan regions and associated sports teams from [assets/wikipedia_data.html](assets/wikipedia_data.html) and answer some questions about each metropolitan region. Each of these regions may have one or more teams from the \"Big 4\": NFL (football, in [assets/nfl.csv](assets/nfl.csv)), MLB (baseball, in [assets/mlb.csv](assets/mlb.csv)), NBA (basketball, in [assets/nba.csv](assets/nba.csv) or NHL (hockey, in [assets/nhl.csv](assets/nhl.csv)). Please keep in mind that all questions are from the perspective of the metropolitan region, and that this file is the \"source of authority\" for the location of a given sports team. Thus teams which are commonly known by a different area (e.g. \"Oakland Raiders\") need to be mapped into the metropolitan region given (e.g. San Francisco Bay Area). This will require some human data understanding outside of the data you've been given (e.g. you will have to hand-code some names, and might need to google to find out where teams are)!\n",
    "\n",
    "For each sport I would like you to answer the question: **what is the win/loss ratio's correlation with the population of the city it is in?** Win/Loss ratio refers to the number of wins over the number of wins plus the number of losses. Remember that to calculate the correlation with [`pearsonr`](https://docs.scipy.org/doc/scipy/reference/generated/scipy.stats.pearsonr.html), so you are going to send in two ordered lists of values, the populations from the wikipedia_data.html file and the win/loss ratio for a given sport in the same order. Average the win/loss ratios for those cities which have multiple teams of a single sport. Each sport is worth an equal amount in this assignment (20%\\*4=80%) of the grade for this assignment. You should only use data **from year 2018** for your analysis -- this is important!\n",
    "\n",
    "## Notes\n",
    "\n",
    "1. Do not include data about the MLS or CFL in any of the work you are doing, we're only interested in the Big 4 in this assignment.\n",
    "2. I highly suggest that you first tackle the four correlation questions in order, as they are all similar and worth the majority of grades for this assignment. This is by design!\n",
    "3. It's fair game to talk with peers about high level strategy as well as the relationship between metropolitan areas and sports teams. However, do not post code solving aspects of the assignment (including such as dictionaries mapping areas to teams, or regexes which will clean up names).\n",
    "4. There may be more teams than the assert statements test, remember to collapse multiple teams in one city into a single value!"
   ]
  },
  {
   "cell_type": "markdown",
   "metadata": {
    "deletable": false,
    "editable": false,
    "nbgrader": {
     "checksum": "369ff9ecf0ee04640574205cbc697f94",
     "grade": false,
     "grade_id": "cell-712b2b5da63d4505",
     "locked": true,
     "schema_version": 1,
     "solution": false
    }
   },
   "source": [
    "## Question 1\n",
    "For this question, calculate the win/loss ratio's correlation with the population of the city it is in for the **NHL** using **2018** data."
   ]
  },
  {
   "cell_type": "code",
   "execution_count": 15,
   "metadata": {
    "deletable": false,
    "nbgrader": {
     "checksum": "1cac4803b02502929f5b1612d48db2b5",
     "grade": false,
     "grade_id": "cell-69b16e4386e58030",
     "locked": false,
     "schema_version": 1,
     "solution": true
    }
   },
   "outputs": [],
   "source": [
    "import pandas as pd\n",
    "import numpy as np\n",
    "import scipy.stats as stats\n",
    "import re\n",
    "\n",
    "\n",
    "def nhl_correlation(): \n",
    "    nhl_df=pd.read_csv(\"assets/nhl.csv\")\n",
    "    nhl_df['team'] = nhl_df['team'].str.replace('*', '')\n",
    "    nhl_df = nhl_df[nhl_df['year']== 2018]\n",
    "    nhl_df.drop(nhl_df[nhl_df['W'] == nhl_df['L']].index, inplace=True)\n",
    "    nhl_df['team'] = nhl_df['team'].str.split(' ').apply(lambda x: x[-1])\n",
    "    nhl_df = nhl_df[['team', 'W', 'L']]\n",
    "    cities=pd.read_html(\"assets/wikipedia_data.html\")[1]\n",
    "    cities=cities.iloc[:-1,[0,3,5,6,7,8]]\n",
    "    cities = cities.rename(columns={'Population (2016 est.)[8]': 'Population', 'Metropolitan area': 'Metro'})\n",
    "    cities = cities[['Metro', 'Population', 'NHL']]\n",
    "    cities['NHL'] = cities['NHL'].str.replace(r'(\\[.*\\])|(—)', '').replace('', np.nan)\n",
    "    cities = cities.dropna()\n",
    "    cities['NHL'] = cities['NHL'].apply(lambda x: re.sub(r'(?<!^)(?=[A-Z])', '_', x))\n",
    "    cities['NHL'] = cities['NHL'].str.replace(' _', ' ')\n",
    "    # Preform operations to create team and merge with win/loss\n",
    "    s = cities['NHL'].str.split('_').apply(pd.Series, 1).stack()\n",
    "    s.index = s.index.droplevel(-1)\n",
    "    s.name = 'team'\n",
    "    teams = cities.join(s).astype({'Metro': str, 'Population': int, 'team': str})\n",
    "    teams = teams[['Metro', 'Population', 'team']]\n",
    "    teams['team'] = teams['team'].str.replace('[\\w.]*\\ ','')\n",
    "    nhl_df = nhl_df.set_index('team')\n",
    "    teams = teams.set_index('team')\n",
    "    merged = nhl_df.join(teams, how='inner')\n",
    "    merged = merged.astype({'W': int, 'L': int})\n",
    "    merged['W/L'] = merged['W']/(merged['W'] + merged['L'])\n",
    "    merged=merged.groupby('Metro').agg({'W/L': np.nanmean, 'Population': np.nanmean})\n",
    "    population_by_region = merged['Population'] # pass in metropolitan area population from cities\n",
    "    win_loss_by_region = merged['W/L']  # pass in win/loss ratio from nhl_df in the same order as cities[\"Metropolitan area\"]\n",
    "    assert len(population_by_region) == len(win_loss_by_region), \"Q1: Your lists must be the same length\"\n",
    "    assert len(population_by_region) == 28, \"Q1: There should be 28 teams being analysed for NHL\"\n",
    "    \n",
    "    return stats.pearsonr(population_by_region, win_loss_by_region)[0]"
   ]
  },
  {
   "cell_type": "code",
   "execution_count": null,
   "metadata": {
    "deletable": false,
    "editable": false,
    "nbgrader": {
     "checksum": "52a581df513c71153e105b93764cda4b",
     "grade": true,
     "grade_id": "cell-ebe0b2dfe1067e63",
     "locked": true,
     "points": 20,
     "schema_version": 1,
     "solution": false
    }
   },
   "outputs": [],
   "source": []
  },
  {
   "cell_type": "markdown",
   "metadata": {
    "deletable": false,
    "editable": false,
    "nbgrader": {
     "checksum": "988912cae4968d81473f46d783e79c16",
     "grade": false,
     "grade_id": "cell-cb964e690298b71d",
     "locked": true,
     "schema_version": 1,
     "solution": false
    }
   },
   "source": [
    "## Question 2\n",
    "For this question, calculate the win/loss ratio's correlation with the population of the city it is in for the **NBA** using **2018** data."
   ]
  },
  {
   "cell_type": "code",
   "execution_count": 40,
   "metadata": {
    "deletable": false,
    "nbgrader": {
     "checksum": "9394222aafc8ccab0a228098ba0d6010",
     "grade": false,
     "grade_id": "cell-5a5f21279e3d3572",
     "locked": false,
     "schema_version": 1,
     "solution": true
    }
   },
   "outputs": [],
   "source": [
    "import pandas as pd\n",
    "import numpy as np\n",
    "import scipy.stats as stats\n",
    "import re\n",
    "\n",
    "\n",
    "def nba_correlation(): \n",
    "    nba_df=pd.read_csv(\"assets/nba.csv\")\n",
    "    nba_df['team'] = nba_df['team'].str.replace(r'\\(\\d+\\)', '')\n",
    "    nba_df['team'] = nba_df['team'].str.replace('*', '')\n",
    "    nba_df['team'] = nba_df['team'].str.strip()\n",
    "    nba_df = nba_df[nba_df['year']== 2018]\n",
    "    nba_df.drop(nba_df[nba_df['W'] == nba_df['L']].index, inplace=True)\n",
    "    nba_df['team'] = nba_df['team'].str.split(' ').apply(lambda x: x[-1])\n",
    "    nba_df = nba_df[['team', 'W', 'L']]\n",
    "    cities=pd.read_html(\"assets/wikipedia_data.html\")[1]\n",
    "    cities=cities.iloc[:-1,[0,3,5,6,7,8]]\n",
    "    cities = cities.rename(columns={'Population (2016 est.)[8]': 'Population', 'Metropolitan area': 'Metro'})\n",
    "    cities = cities[['Metro', 'Population', 'NBA']]\n",
    "    cities['NBA'] = cities['NBA'].str.replace(r'(\\[.*\\])|(—)', '').replace('', np.nan)\n",
    "    cities = cities.dropna()\n",
    "    cities['NBA'] = cities['NBA'].apply(lambda x: re.sub(r'(?<!^)(?=[A-Z])', '_', x))\n",
    "    cities['NBA'] = cities['NBA'].str.replace(' _', ' ')\n",
    "    # Preform operations to create team and merge with win/loss\n",
    "    s = cities['NBA'].str.split('_').apply(pd.Series, 1).stack()\n",
    "    s.index = s.index.droplevel(-1)\n",
    "    s.name = 'team'\n",
    "    teams = cities.join(s).astype({'Metro': str, 'Population': int, 'team': str})\n",
    "    teams = teams[['Metro', 'Population', 'team']]\n",
    "    teams['team'] = teams['team'].str.replace('[\\w.]*\\ ','')\n",
    "    nba_df = nba_df.set_index('team')\n",
    "    teams = teams.set_index('team')\n",
    "    merged = nba_df.join(teams, how='inner')\n",
    "    merged = merged.astype({'W': int, 'L': int})\n",
    "    merged['W/L'] = merged['W']/(merged['W'] + merged['L'])\n",
    "    merged=merged.groupby('Metro').agg({'W/L': np.nanmean, 'Population': np.nanmean})\n",
    "    population_by_region = merged['Population'] # pass in metropolitan area population from cities\n",
    "    win_loss_by_region = merged['W/L']  # pass in win/loss ratio from nba_df in the same order as cities[\"Metropolitan area\"]\n",
    "    assert len(population_by_region) == len(win_loss_by_region), \"Q1: Your lists must be the same length\"\n",
    "    assert len(population_by_region) == 28, \"Q2: There should be 28 teams being analysed for NBA\"\n",
    "    \n",
    "    return stats.pearsonr(population_by_region, win_loss_by_region)[0]"
   ]
  },
  {
   "cell_type": "code",
   "execution_count": null,
   "metadata": {
    "deletable": false,
    "editable": false,
    "nbgrader": {
     "checksum": "bbdeb8eb22f525a34c10dc8798324e42",
     "grade": true,
     "grade_id": "cell-e573b2b4a282b470",
     "locked": true,
     "points": 20,
     "schema_version": 1,
     "solution": false
    }
   },
   "outputs": [],
   "source": []
  },
  {
   "cell_type": "markdown",
   "metadata": {
    "deletable": false,
    "editable": false,
    "nbgrader": {
     "checksum": "1a1a5809f675ca033086422007cd73bd",
     "grade": false,
     "grade_id": "cell-96e15e4335df78f4",
     "locked": true,
     "schema_version": 1,
     "solution": false
    }
   },
   "source": [
    "## Question 3\n",
    "For this question, calculate the win/loss ratio's correlation with the population of the city it is in for the **MLB** using **2018** data."
   ]
  },
  {
   "cell_type": "code",
   "execution_count": 88,
   "metadata": {
    "deletable": false,
    "nbgrader": {
     "checksum": "27e8c0da6c9fa0dffc10488314335b6c",
     "grade": false,
     "grade_id": "cell-33b00fc3f3467b0c",
     "locked": false,
     "schema_version": 1,
     "solution": true
    }
   },
   "outputs": [
    {
     "name": "stdout",
     "output_type": "stream",
     "text": [
      "0.15027698302669307\n"
     ]
    }
   ],
   "source": [
    "import pandas as pd\n",
    "import numpy as np\n",
    "import scipy.stats as stats\n",
    "import re\n",
    "\n",
    "\n",
    "def mlb_correlation(): \n",
    "    mlb_df=pd.read_csv(\"assets/mlb.csv\")\n",
    "    mlb_df['team'] = mlb_df['team'].str.replace('*', '')\n",
    "    mlb_df = mlb_df[mlb_df['year']== 2018]\n",
    "    mlb_df['team'][0] = 'rsox'\n",
    "    mlb_df['team'][8] = 'wsox'\n",
    "    mlb_df.drop(mlb_df[mlb_df['W'] == mlb_df['L']].index, inplace=True)\n",
    "    mlb_df['team'] = mlb_df['team'].str.split(' ').apply(lambda x: x[-1])\n",
    "    mlb_df = mlb_df[['team', 'W', 'L']]\n",
    "    cities=pd.read_html(\"assets/wikipedia_data.html\")[1]\n",
    "    cities=cities.iloc[:-1,[0,3,5,6,7,8]]\n",
    "    cities = cities.rename(columns={'Population (2016 est.)[8]': 'Population', 'Metropolitan area': 'Metro'})\n",
    "    cities = cities[['Metro', 'Population', 'MLB']]\n",
    "    cities['MLB'] = cities['MLB'].str.replace(r'(\\[.*\\])|(—)', '').replace('', np.nan)\n",
    "    cities = cities.dropna()\n",
    "    cities['MLB'] = cities['MLB'].apply(lambda x: re.sub(r'(?<!^)(?=[A-Z])', '_', x))\n",
    "    cities['MLB'] = cities['MLB'].str.replace(' _', ' ')\n",
    "    # Preform operations to create team and merge with win/loss\n",
    "    s = cities['MLB'].str.split('_').apply(pd.Series, 1).stack()\n",
    "    s.index = s.index.droplevel(-1)\n",
    "    s.name = 'team'\n",
    "    teams = cities.join(s).astype({'Metro': str, 'Population': int, 'team': str})\n",
    "    teams = teams[['Metro', 'Population', 'team']]\n",
    "    teams['team'] = teams['team'].str.replace('[\\w.]*\\ ','')\n",
    "    mlb_df = mlb_df.set_index('team')\n",
    "    teams = teams.set_index('team')\n",
    "    teams = teams.reset_index()\n",
    "    teams['team'][7] = 'wsox'\n",
    "    teams['team'][11] = 'rsox'\n",
    "    teams = teams.set_index('team')\n",
    "    merged = mlb_df.join(teams, how='inner')\n",
    "    merged = merged.astype({'W': int, 'L': int})\n",
    "    merged['W/L'] = merged['W']/(merged['W'] + merged['L'])\n",
    "    merged=merged.groupby('Metro').agg({'W/L': np.nanmean, 'Population': np.nanmean})\n",
    "    population_by_region = merged['Population'] # pass in metropolitan area population from cities\n",
    "    win_loss_by_region = merged['W/L']  # pass in win/loss ratio from mlb_df in the same order as cities[\"Metropolitan area\"]\n",
    "    assert len(population_by_region) == len(win_loss_by_region), \"Q1: Your lists must be the same length\"\n",
    "    assert len(population_by_region) == 26, \"Q3: There should be 26 teams being analysed for MLB\"\n",
    "    \n",
    "    return stats.pearsonr(population_by_region, win_loss_by_region)[0]"
   ]
  },
  {
   "cell_type": "code",
   "execution_count": null,
   "metadata": {
    "deletable": false,
    "editable": false,
    "nbgrader": {
     "checksum": "cda33b094ba19ccc37a481e0dd29e0bc",
     "grade": true,
     "grade_id": "cell-764d4476f425c5a2",
     "locked": true,
     "points": 20,
     "schema_version": 1,
     "solution": false
    }
   },
   "outputs": [],
   "source": []
  },
  {
   "cell_type": "markdown",
   "metadata": {
    "deletable": false,
    "editable": false,
    "nbgrader": {
     "checksum": "6977a6da9ed6d8b7a0b7e37bbeda709b",
     "grade": false,
     "grade_id": "cell-793df6c04dfb126e",
     "locked": true,
     "schema_version": 1,
     "solution": false
    }
   },
   "source": [
    "## Question 4\n",
    "For this question, calculate the win/loss ratio's correlation with the population of the city it is in for the **NFL** using **2018** data."
   ]
  },
  {
   "cell_type": "code",
   "execution_count": 89,
   "metadata": {
    "deletable": false,
    "nbgrader": {
     "checksum": "c4914ad1e119278ec2bd567c52640b66",
     "grade": false,
     "grade_id": "cell-8ccebc209aeec8d9",
     "locked": false,
     "schema_version": 1,
     "solution": true
    }
   },
   "outputs": [],
   "source": [
    "import pandas as pd\n",
    "import numpy as np\n",
    "import scipy.stats as stats\n",
    "import re\n",
    "\n",
    "\n",
    "def nfl_correlation(): \n",
    "    nfl_df=pd.read_csv(\"assets/nfl.csv\")\n",
    "    nfl_df['team'] = nfl_df['team'].str.replace('*', '')\n",
    "    nfl_df['team'] = nfl_df['team'].str.replace('+', '')\n",
    "    nfl_df = nfl_df[nfl_df['year']== 2018]\n",
    "    nfl_df.drop(nfl_df[nfl_df['W'] == nfl_df['L']].index, inplace=True)\n",
    "    nfl_df['team'] = nfl_df['team'].str.split(' ').apply(lambda x: x[-1])\n",
    "    nfl_df = nfl_df[['team', 'W', 'L']]\n",
    "    cities=pd.read_html(\"assets/wikipedia_data.html\")[1]\n",
    "    cities=cities.iloc[:-1,[0,3,5,6,7,8]]\n",
    "    cities = cities.rename(columns={'Population (2016 est.)[8]': 'Population', 'Metropolitan area': 'Metro'})\n",
    "    cities = cities[['Metro', 'Population', 'NFL']]\n",
    "    cities['NFL'] = cities['NFL'].str.replace(r'(\\[.*\\])|(—)', '').replace('', np.nan)\n",
    "    cities = cities.dropna()\n",
    "    cities['NFL'] = cities['NFL'].apply(lambda x: re.sub(r'(?<!^)(?=[A-Z])', '_', x))\n",
    "    cities['NFL'] = cities['NFL'].str.replace(' _', ' ')\n",
    "    # Preform operations to create team and merge with win/loss\n",
    "    s = cities['NFL'].str.split('_').apply(pd.Series, 1).stack()\n",
    "    s.index = s.index.droplevel(-1)\n",
    "    s.name = 'team'\n",
    "    teams = cities.join(s).astype({'Metro': str, 'Population': int, 'team': str})\n",
    "    teams = teams[['Metro', 'Population', 'team']]\n",
    "    teams['team'] = teams['team'].str.replace('[\\w.]*\\ ','')\n",
    "    nfl_df = nfl_df.set_index('team')\n",
    "    teams = teams.set_index('team')\n",
    "    merged = nfl_df.join(teams, how='inner')\n",
    "    merged = merged.astype({'W': int, 'L': int})\n",
    "    merged['W/L'] = merged['W']/(merged['W'] + merged['L'])\n",
    "    merged=merged.groupby('Metro').agg({'W/L': np.nanmean, 'Population': np.nanmean})\n",
    "    population_by_region = merged['Population'] # pass in metropolitan area population from cities\n",
    "    win_loss_by_region = merged['W/L']  # pass in win/loss ratio from nfl_df in the same order as cities[\"Metropolitan area\"]\n",
    "    assert len(population_by_region) == len(win_loss_by_region), \"Q1: Your lists must be the same length\"\n",
    "    assert len(population_by_region) == 29, \"Q4: There should be 29 teams being analysed for NFL\"\n",
    "    \n",
    "    return stats.pearsonr(population_by_region, win_loss_by_region)[0]"
   ]
  },
  {
   "cell_type": "code",
   "execution_count": null,
   "metadata": {
    "deletable": false,
    "editable": false,
    "nbgrader": {
     "checksum": "e9415d6399aa49e3a1a60813afdefa3b",
     "grade": true,
     "grade_id": "cell-de7b148b9554dbda",
     "locked": true,
     "points": 20,
     "schema_version": 1,
     "solution": false
    }
   },
   "outputs": [],
   "source": []
  },
  {
   "cell_type": "markdown",
   "metadata": {
    "deletable": false,
    "editable": false,
    "nbgrader": {
     "checksum": "b02d5cd3273f561e4ae939bb2a41740c",
     "grade": false,
     "grade_id": "cell-97b49d8639e908c4",
     "locked": true,
     "schema_version": 1,
     "solution": false
    }
   },
   "source": [
    "## Question 5\n",
    "In this question I would like you to explore the hypothesis that **given that an area has two sports teams in different sports, those teams will perform the same within their respective sports**. How I would like to see this explored is with a series of paired t-tests (so use [`ttest_rel`](https://docs.scipy.org/doc/scipy/reference/generated/scipy.stats.ttest_rel.html)) between all pairs of sports. Are there any sports where we can reject the null hypothesis? Again, average values where a sport has multiple teams in one region. Remember, you will only be including, for each sport, cities which have teams engaged in that sport, drop others as appropriate. This question is worth 20% of the grade for this assignment."
   ]
  },
  {
   "cell_type": "code",
   "execution_count": 96,
   "metadata": {
    "deletable": false,
    "nbgrader": {
     "checksum": "6d78c961eb66f8d8c81f06d33ae8f393",
     "grade": false,
     "grade_id": "cell-92f25f44b8d1179f",
     "locked": false,
     "schema_version": 1,
     "solution": true
    }
   },
   "outputs": [],
   "source": [
    "import pandas as pd\n",
    "import numpy as np\n",
    "import scipy.stats as stats\n",
    "import re\n",
    "\n",
    "def sports_team_performance():\n",
    "    def nhl_correlation(): \n",
    "        nhl_df=pd.read_csv(\"assets/nhl.csv\")\n",
    "        nhl_df['team'] = nhl_df['team'].str.replace('*', '')\n",
    "        nhl_df = nhl_df[nhl_df['year']== 2018]\n",
    "        nhl_df.drop(nhl_df[nhl_df['W'] == nhl_df['L']].index, inplace=True)\n",
    "        nhl_df['team'] = nhl_df['team'].str.split(' ').apply(lambda x: x[-1])\n",
    "        nhl_df = nhl_df[['team', 'W', 'L']]\n",
    "        cities=pd.read_html(\"assets/wikipedia_data.html\")[1]\n",
    "        cities=cities.iloc[:-1,[0,3,5,6,7,8]]\n",
    "        cities = cities.rename(columns={'Population (2016 est.)[8]': 'Population', 'Metropolitan area': 'Metro'})\n",
    "        cities = cities[['Metro', 'Population', 'NHL']]\n",
    "        cities['NHL'] = cities['NHL'].str.replace(r'(\\[.*\\])|(—)', '').replace('', np.nan)\n",
    "        cities = cities.dropna()\n",
    "        cities['NHL'] = cities['NHL'].apply(lambda x: re.sub(r'(?<!^)(?=[A-Z])', '_', x))\n",
    "        cities['NHL'] = cities['NHL'].str.replace(' _', ' ')\n",
    "        # Preform operations to create team and merge with win/loss\n",
    "        s = cities['NHL'].str.split('_').apply(pd.Series, 1).stack()\n",
    "        s.index = s.index.droplevel(-1)\n",
    "        s.name = 'team'\n",
    "        teams = cities.join(s).astype({'Metro': str, 'Population': int, 'team': str})\n",
    "        teams = teams[['Metro', 'Population', 'team']]\n",
    "        teams['team'] = teams['team'].str.replace('[\\w.]*\\ ','')\n",
    "        nhl_df = nhl_df.set_index('team')\n",
    "        teams = teams.set_index('team')\n",
    "        merged = nhl_df.join(teams, how='inner')\n",
    "        merged = merged.astype({'W': int, 'L': int})\n",
    "        merged['W/L'] = merged['W']/(merged['W'] + merged['L'])\n",
    "        return merged.groupby('Metro').mean()\n",
    "    def nba_correlation(): \n",
    "        nba_df=pd.read_csv(\"assets/nba.csv\")\n",
    "        nba_df['team'] = nba_df['team'].str.replace(r'\\(\\d+\\)', '')\n",
    "        nba_df['team'] = nba_df['team'].str.replace('*', '')\n",
    "        nba_df['team'] = nba_df['team'].str.strip()\n",
    "        nba_df = nba_df[nba_df['year']== 2018]\n",
    "        nba_df.drop(nba_df[nba_df['W'] == nba_df['L']].index, inplace=True)\n",
    "        nba_df['team'] = nba_df['team'].str.split(' ').apply(lambda x: x[-1])\n",
    "        nba_df = nba_df[['team', 'W', 'L']]\n",
    "        cities=pd.read_html(\"assets/wikipedia_data.html\")[1]\n",
    "        cities=cities.iloc[:-1,[0,3,5,6,7,8]]\n",
    "        cities = cities.rename(columns={'Population (2016 est.)[8]': 'Population', 'Metropolitan area': 'Metro'})\n",
    "        cities = cities[['Metro', 'Population', 'NBA']]\n",
    "        cities['NBA'] = cities['NBA'].str.replace(r'(\\[.*\\])|(—)', '').replace('', np.nan)\n",
    "        cities = cities.dropna()\n",
    "        cities['NBA'] = cities['NBA'].apply(lambda x: re.sub(r'(?<!^)(?=[A-Z])', '_', x))\n",
    "        cities['NBA'] = cities['NBA'].str.replace(' _', ' ')\n",
    "        # Preform operations to create team and merge with win/loss\n",
    "        s = cities['NBA'].str.split('_').apply(pd.Series, 1).stack()\n",
    "        s.index = s.index.droplevel(-1)\n",
    "        s.name = 'team'\n",
    "        teams = cities.join(s).astype({'Metro': str, 'Population': int, 'team': str})\n",
    "        teams = teams[['Metro', 'Population', 'team']]\n",
    "        teams['team'] = teams['team'].str.replace('[\\w.]*\\ ','')\n",
    "        nba_df = nba_df.set_index('team')\n",
    "        teams = teams.set_index('team')\n",
    "        merged = nba_df.join(teams, how='inner')\n",
    "        merged = merged.astype({'W': int, 'L': int})\n",
    "        merged['W/L'] = merged['W']/(merged['W'] + merged['L'])\n",
    "        return merged.groupby('Metro').mean()\n",
    "    def mlb_correlation(): \n",
    "        mlb_df=pd.read_csv(\"assets/mlb.csv\")\n",
    "        mlb_df['team'] = mlb_df['team'].str.replace('*', '')\n",
    "        mlb_df = mlb_df[mlb_df['year']== 2018]\n",
    "        mlb_df['team'][0] = 'rsox'\n",
    "        mlb_df['team'][8] = 'wsox'\n",
    "        mlb_df.drop(mlb_df[mlb_df['W'] == mlb_df['L']].index, inplace=True)\n",
    "        mlb_df['team'] = mlb_df['team'].str.split(' ').apply(lambda x: x[-1])\n",
    "        mlb_df = mlb_df[['team', 'W', 'L']]\n",
    "        cities=pd.read_html(\"assets/wikipedia_data.html\")[1]\n",
    "        cities=cities.iloc[:-1,[0,3,5,6,7,8]]\n",
    "        cities = cities.rename(columns={'Population (2016 est.)[8]': 'Population', 'Metropolitan area': 'Metro'})\n",
    "        cities = cities[['Metro', 'Population', 'MLB']]\n",
    "        cities['MLB'] = cities['MLB'].str.replace(r'(\\[.*\\])|(—)', '').replace('', np.nan)\n",
    "        cities = cities.dropna()\n",
    "        cities['MLB'] = cities['MLB'].apply(lambda x: re.sub(r'(?<!^)(?=[A-Z])', '_', x))\n",
    "        cities['MLB'] = cities['MLB'].str.replace(' _', ' ')\n",
    "        # Preform operations to create team and merge with win/loss\n",
    "        s = cities['MLB'].str.split('_').apply(pd.Series, 1).stack()\n",
    "        s.index = s.index.droplevel(-1)\n",
    "        s.name = 'team'\n",
    "        teams = cities.join(s).astype({'Metro': str, 'Population': int, 'team': str})\n",
    "        teams = teams[['Metro', 'Population', 'team']]\n",
    "        teams['team'] = teams['team'].str.replace('[\\w.]*\\ ','')\n",
    "        mlb_df = mlb_df.set_index('team')\n",
    "        teams = teams.set_index('team')\n",
    "        teams = teams.reset_index()\n",
    "        teams['team'][7] = 'wsox'\n",
    "        teams['team'][11] = 'rsox'\n",
    "        teams = teams.set_index('team')\n",
    "        merged = mlb_df.join(teams, how='inner')\n",
    "        merged = merged.astype({'W': int, 'L': int})\n",
    "        merged['W/L'] = merged['W']/(merged['W'] + merged['L'])\n",
    "        return merged.groupby('Metro').mean()\n",
    "    def nfl_correlation(): \n",
    "        nfl_df=pd.read_csv(\"assets/nfl.csv\")\n",
    "        nfl_df['team'] = nfl_df['team'].str.replace('*', '')\n",
    "        nfl_df['team'] = nfl_df['team'].str.replace('+', '')\n",
    "        nfl_df = nfl_df[nfl_df['year']== 2018]\n",
    "        nfl_df.drop(nfl_df[nfl_df['W'] == nfl_df['L']].index, inplace=True)\n",
    "        nfl_df['team'] = nfl_df['team'].str.split(' ').apply(lambda x: x[-1])\n",
    "        nfl_df = nfl_df[['team', 'W', 'L']]\n",
    "        cities=pd.read_html(\"assets/wikipedia_data.html\")[1]\n",
    "        cities=cities.iloc[:-1,[0,3,5,6,7,8]]\n",
    "        cities = cities.rename(columns={'Population (2016 est.)[8]': 'Population', 'Metropolitan area': 'Metro'})\n",
    "        cities = cities[['Metro', 'Population', 'NFL']]\n",
    "        cities['NFL'] = cities['NFL'].str.replace(r'(\\[.*\\])|(—)', '').replace('', np.nan)\n",
    "        cities = cities.dropna()\n",
    "        cities['NFL'] = cities['NFL'].apply(lambda x: re.sub(r'(?<!^)(?=[A-Z])', '_', x))\n",
    "        cities['NFL'] = cities['NFL'].str.replace(' _', ' ')\n",
    "        # Preform operations to create team and merge with win/loss\n",
    "        s = cities['NFL'].str.split('_').apply(pd.Series, 1).stack()\n",
    "        s.index = s.index.droplevel(-1)\n",
    "        s.name = 'team'\n",
    "        teams = cities.join(s).astype({'Metro': str, 'Population': int, 'team': str})\n",
    "        teams = teams[['Metro', 'Population', 'team']]\n",
    "        teams['team'] = teams['team'].str.replace('[\\w.]*\\ ','')\n",
    "        nfl_df = nfl_df.set_index('team')\n",
    "        teams = teams.set_index('team')\n",
    "        merged = nfl_df.join(teams, how='inner')\n",
    "        merged = merged.astype({'W': int, 'L': int})\n",
    "        merged['W/L'] = merged['W']/(merged['W'] + merged['L'])\n",
    "        return merged.groupby('Metro').mean()\n",
    "\n",
    "    # Note: p_values is a full dataframe, so df.loc[\"NFL\",\"NBA\"] should be the same as df.loc[\"NBA\",\"NFL\"] and\n",
    "    # df.loc[\"NFL\",\"NFL\"] should return np.nan\n",
    "    sports = ['NFL', 'NBA', 'NHL', 'MLB']\n",
    "    nhl_nba = pd.merge(left = nhl_correlation(), right = nba_correlation(), how = 'inner', on = 'Metro')\n",
    "    nhl_mlb = pd.merge(left = nhl_correlation(), right = mlb_correlation(), how = 'inner', on = 'Metro')\n",
    "    nhl_nfl = pd.merge(left = nhl_correlation(), right = nfl_correlation(), how = 'inner', on = 'Metro')\n",
    "    nba_mlb = pd.merge(left = nba_correlation(), right = mlb_correlation(), how = 'inner', on = 'Metro')\n",
    "    nba_nfl = pd.merge(left = nba_correlation(), right = nfl_correlation(), how = 'inner', on = 'Metro')\n",
    "    mlb_nfl = pd.merge(left = mlb_correlation(), right = nfl_correlation(), how = 'inner', on = 'Metro')\n",
    "    \n",
    "    p_nhl_nba = stats.ttest_rel(nhl_nba['W/L_x'], nhl_nba['W/L_y'])[1]\n",
    "    p_nhl_mlb = stats.ttest_rel(nhl_mlb['W/L_x'], nhl_mlb['W/L_y'])[1]\n",
    "    p_nhl_nfl = stats.ttest_rel(nhl_nfl['W/L_x'], nhl_nfl['W/L_y'])[1]\n",
    "    p_nba_mlb = stats.ttest_rel(nba_mlb['W/L_x'], nba_mlb['W/L_y'])[1]\n",
    "    p_nba_nfl = stats.ttest_rel(nba_nfl['W/L_x'], nba_nfl['W/L_y'])[1]\n",
    "    p_mlb_nfl = stats.ttest_rel(mlb_nfl['W/L_x'], mlb_nfl['W/L_y'])[1]\n",
    "\n",
    "    p_values = pd.DataFrame([[np.nan, p_nba_nfl, p_nhl_nfl, p_mlb_nfl], \n",
    "                             [p_nba_nfl, np.nan, p_nhl_nba, p_nba_mlb], \n",
    "                             [p_nhl_nfl, p_nhl_nba, np.nan, p_nhl_mlb], \n",
    "                             [p_mlb_nfl, p_nba_mlb, p_nhl_mlb, np.nan]], \n",
    "                            index = sports, columns = sports)                                                                \n",
    "    \n",
    "    assert abs(p_values.loc[\"NBA\", \"NHL\"] - 0.02) <= 1e-2, \"The NBA-NHL p-value should be around 0.02\"\n",
    "    assert abs(p_values.loc[\"MLB\", \"NFL\"] - 0.80) <= 1e-2, \"The MLB-NFL p-value should be around 0.80\"\n",
    "    return p_values"
   ]
  },
  {
   "cell_type": "code",
   "execution_count": null,
   "metadata": {
    "deletable": false,
    "editable": false,
    "nbgrader": {
     "checksum": "2a596ab421a45cc01168d10e8fbb8f89",
     "grade": true,
     "grade_id": "cell-fb4b9cb5ff4570a6",
     "locked": true,
     "points": 20,
     "schema_version": 1,
     "solution": false
    }
   },
   "outputs": [],
   "source": []
  }
 ],
 "metadata": {
  "coursera": {
   "schema_names": [
    "mooc_adswpy_1_v2_assignment4"
   ]
  },
  "kernelspec": {
   "display_name": "Python 3",
   "language": "python",
   "name": "python3"
  },
  "language_info": {
   "codemirror_mode": {
    "name": "ipython",
    "version": 3
   },
   "file_extension": ".py",
   "mimetype": "text/x-python",
   "name": "python",
   "nbconvert_exporter": "python",
   "pygments_lexer": "ipython3",
   "version": "3.7.3"
  }
 },
 "nbformat": 4,
 "nbformat_minor": 4
}
